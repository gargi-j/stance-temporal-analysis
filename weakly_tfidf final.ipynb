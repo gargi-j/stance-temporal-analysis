{
 "cells": [
  {
   "cell_type": "code",
   "execution_count": 8,
   "id": "4c6e0c7c",
   "metadata": {},
   "outputs": [],
   "source": [
    "import pandas as pd\n",
    "import re\n",
    "import nltk\n",
    "import contractions\n",
    "from sklearn.feature_extraction.text import TfidfVectorizer\n",
    "from sklearn.cluster import KMeans\n",
    "from sklearn.model_selection import train_test_split\n",
    "from xgboost import XGBClassifier\n",
    "from sklearn.metrics import classification_report\n",
    "from sklearn.preprocessing import LabelEncoder\n",
    "import joblib"
   ]
  },
  {
   "cell_type": "code",
   "execution_count": 2,
   "id": "a634ca98",
   "metadata": {},
   "outputs": [],
   "source": [
    "# Load your dataset\n",
    "df = pd.read_csv(\"C:\\\\Users\\\\abhve\\\\Downloads\\\\trained.csv\")"
   ]
  },
  {
   "cell_type": "code",
   "execution_count": 3,
   "id": "bce4a40c",
   "metadata": {},
   "outputs": [],
   "source": [
    "column = 'OR_user_description'\n",
    "label_column = 'Annotate'"
   ]
  },
  {
   "cell_type": "code",
   "execution_count": 4,
   "id": "52e23485",
   "metadata": {},
   "outputs": [],
   "source": [
    "# Handle missing values\n",
    "df[column] = df[column].fillna('')  # Replace NaN with an empty string"
   ]
  },
  {
   "cell_type": "code",
   "execution_count": 6,
   "id": "d2affbd9",
   "metadata": {},
   "outputs": [
    {
     "name": "stdout",
     "output_type": "stream",
     "text": [
      "['ir' 'media' 'nu' 'incs' 'ncp' 'sss' 'antibjp' 'bjps' 'bjp' 'ss' 'ammk'\n",
      " 'inc' 'ysrcps' 'cpim' 'aimim' 'aaps' 'tmc' 'nan' 'mnss' 'aiadmks']\n"
     ]
    }
   ],
   "source": [
    "df['Annotate'] = df['Annotate'].apply(lambda x: str(x))\n",
    "df['Annotate'] = df['Annotate'].str.replace(' ', '')\n",
    "df['Annotate'] = df['Annotate'].apply(lambda x: x.lower())\n",
    "unique_values = df['Annotate'].unique()\n",
    "print(unique_values)\n"
   ]
  },
  {
   "cell_type": "code",
   "execution_count": 7,
   "id": "de93c074",
   "metadata": {},
   "outputs": [],
   "source": [
    "# Convert all values to strings\n",
    "df[column] = df[column].apply(lambda x: str(x))"
   ]
  },
  {
   "cell_type": "code",
   "execution_count": 9,
   "id": "a775b53c",
   "metadata": {},
   "outputs": [],
   "source": [
    "# Text Preprocessing\n",
    "df[column] = df[column].apply(lambda x: x.lower())\n",
    "df[column] = df[column].apply(lambda x: contractions.fix(x))\n",
    "punctuations_regex = \"!#%&\\'()\\*+,-/:;<=>?@[\\\\]^_`{|}~.1234567890\"\n",
    "df[column] = df[column].apply(lambda x: re.sub('[%s]' % re.escape(punctuations_regex), ' ', x))\n",
    "df[column] = df[column].apply(lambda x: ' '.join(nltk.word_tokenize(x)))"
   ]
  },
  {
   "cell_type": "code",
   "execution_count": 10,
   "id": "934d561a",
   "metadata": {},
   "outputs": [],
   "source": [
    "# Feature Extraction (TF-IDF)\n",
    "TFIDF_PARAMS = {\n",
    "    'strip_accents': 'ascii',\n",
    "    'stop_words': 'english',\n",
    "    'sublinear_tf': True, #number assignment- rare words more weight\n",
    "    'ngram_range': (1, 4),\n",
    "    'min_df': 0.003,\n",
    "}"
   ]
  },
  {
   "cell_type": "code",
   "execution_count": 11,
   "id": "64cfa54d",
   "metadata": {},
   "outputs": [],
   "source": [
    "vectorizer = TfidfVectorizer(**TFIDF_PARAMS)\n",
    "tfidf_model = vectorizer.fit(df[column])\n",
    "features = tfidf_model.transform(df[column])"
   ]
  },
  {
   "cell_type": "code",
   "execution_count": 12,
   "id": "a13c12a1",
   "metadata": {},
   "outputs": [
    {
     "name": "stderr",
     "output_type": "stream",
     "text": [
      "C:\\Users\\abhve\\AppData\\Roaming\\Python\\Python311\\site-packages\\sklearn\\cluster\\_kmeans.py:1416: FutureWarning: The default value of `n_init` will change from 10 to 'auto' in 1.4. Set the value of `n_init` explicitly to suppress the warning\n",
      "  super()._check_params_vs_input(X, default_n_init=10)\n"
     ]
    }
   ],
   "source": [
    "# Clustering\n",
    "cluster_model = KMeans(n_clusters=200).fit(features)\n",
    "df['cluster_label'] = cluster_model.labels_\n"
   ]
  },
  {
   "cell_type": "code",
   "execution_count": 13,
   "id": "3b287555",
   "metadata": {},
   "outputs": [],
   "source": [
    "# Encode Labels\n",
    "label_encoder = LabelEncoder() #function\n",
    "df[label_column] = label_encoder.fit_transform(df[label_column]) #function call\n"
   ]
  },
  {
   "cell_type": "code",
   "execution_count": 14,
   "id": "8071a17a",
   "metadata": {},
   "outputs": [],
   "source": [
    "# Split data into train and test sets\n",
    "X_train, X_test, y_train, y_test = train_test_split(features, df[label_column], test_size=0.2, random_state=42)"
   ]
  },
  {
   "cell_type": "code",
   "execution_count": 15,
   "id": "f45b9754",
   "metadata": {},
   "outputs": [],
   "source": [
    "# Training XGBoost (Weak supervision)\n",
    "clf = XGBClassifier(n_jobs=-1, objective='multi:softmax')\n",
    "clf = clf.fit(X_train, y_train)"
   ]
  },
  {
   "cell_type": "code",
   "execution_count": 16,
   "id": "c6336165",
   "metadata": {},
   "outputs": [
    {
     "data": {
      "text/plain": [
       "['label_encoder.keras']"
      ]
     },
     "execution_count": 16,
     "metadata": {},
     "output_type": "execute_result"
    }
   ],
   "source": [
    "# Save models\n",
    "joblib.dump(clf, 'model.keras')\n",
    "joblib.dump(tfidf_model, 'vectorizer.keras')\n",
    "joblib.dump(label_encoder, 'label_encoder.keras')"
   ]
  },
  {
   "cell_type": "code",
   "execution_count": 17,
   "id": "16da41ad",
   "metadata": {},
   "outputs": [],
   "source": [
    "# Model Evaluation\n",
    "y_true = label_encoder.inverse_transform(y_test)\n",
    "y_pred = clf.predict(X_test)\n",
    "y_pred_str = label_encoder.inverse_transform(y_pred)\n"
   ]
  },
  {
   "cell_type": "code",
   "execution_count": 18,
   "id": "c4f81007",
   "metadata": {},
   "outputs": [
    {
     "name": "stdout",
     "output_type": "stream",
     "text": [
      "              precision    recall  f1-score   support\n",
      "\n",
      "        aaps     1.0000    1.0000    1.0000        27\n",
      "     aiadmks     1.0000    1.0000    1.0000         4\n",
      "       aimim     1.0000    0.8571    0.9231         7\n",
      "        ammk     0.7500    1.0000    0.8571         3\n",
      "     antibjp     1.0000    0.9198    0.9582       162\n",
      "         bjp     1.0000    1.0000    1.0000        74\n",
      "        bjps     1.0000    0.8133    0.8970       316\n",
      "        cpim     1.0000    1.0000    1.0000         5\n",
      "         inc     1.0000    1.0000    1.0000        61\n",
      "        incs     0.9863    0.8780    0.9290        82\n",
      "          ir     0.8580    1.0000    0.9236       580\n",
      "       media     0.9985    0.9911    0.9948       673\n",
      "        mnss     1.0000    1.0000    1.0000         6\n",
      "         ncp     1.0000    1.0000    1.0000         8\n",
      "          nu     1.0000    1.0000    1.0000       315\n",
      "          ss     1.0000    1.0000    1.0000        12\n",
      "         sss     1.0000    1.0000    1.0000        13\n",
      "         tmc     1.0000    1.0000    1.0000        16\n",
      "      ysrcps     1.0000    0.5455    0.7059        22\n",
      "\n",
      "    accuracy                         0.9585      2386\n",
      "   macro avg     0.9786    0.9476    0.9573      2386\n",
      "weighted avg     0.9643    0.9585    0.9579      2386\n",
      "\n"
     ]
    }
   ],
   "source": [
    "print(classification_report(y_true, y_pred_str, digits=4))"
   ]
  },
  {
   "cell_type": "code",
   "execution_count": 29,
   "id": "eac0fd8c",
   "metadata": {},
   "outputs": [],
   "source": [
    "## Testing"
   ]
  },
  {
   "cell_type": "code",
   "execution_count": 30,
   "id": "b7601eb4",
   "metadata": {},
   "outputs": [],
   "source": [
    "# Load your unlabeled dataset\n",
    "unlabeled_df = pd.read_csv(\"C:\\\\Users\\\\abhve\\\\Downloads\\\\tested.csv\")\n"
   ]
  },
  {
   "cell_type": "code",
   "execution_count": 31,
   "id": "a3ea4eac",
   "metadata": {},
   "outputs": [],
   "source": [
    "column = 'OR_user_description'"
   ]
  },
  {
   "cell_type": "code",
   "execution_count": 32,
   "id": "74e041b5",
   "metadata": {},
   "outputs": [],
   "source": [
    "unlabeled_df[column] = unlabeled_df[column].fillna('').astype(str)"
   ]
  },
  {
   "cell_type": "code",
   "execution_count": 33,
   "id": "6a3a1c31",
   "metadata": {},
   "outputs": [],
   "source": [
    "# Text Preprocessing\n",
    "unlabeled_df[column] = unlabeled_df[column].apply(lambda x: x.lower())\n",
    "unlabeled_df[column] = unlabeled_df[column].apply(lambda x: contractions.fix(x))\n",
    "punctuations_regex = \"!#%&'()*+,-/:;<=>?@[\\\\]^_`{|}~.1234567890\"\n",
    "unlabeled_df[column] = unlabeled_df[column].apply(lambda x: re.sub('[%s]' % re.escape(punctuations_regex), ' ', x))\n",
    "unlabeled_df[column] = unlabeled_df[column].apply(lambda x: ' '.join(nltk.word_tokenize(x)))\n"
   ]
  },
  {
   "cell_type": "code",
   "execution_count": 34,
   "id": "676173ce",
   "metadata": {},
   "outputs": [],
   "source": [
    "# Load TF-IDF vectorizer, label encoder, and model\n",
    "tfidf_model = joblib.load('vectorizer.keras')\n",
    "label_encoder = joblib.load('label_encoder.keras')\n",
    "clf = joblib.load('model.keras')"
   ]
  },
  {
   "cell_type": "code",
   "execution_count": 35,
   "id": "26e32c1a",
   "metadata": {},
   "outputs": [],
   "source": [
    "# Feature extraction using the loaded TF-IDF vectorizer\n",
    "features_unlabeled = tfidf_model.transform(unlabeled_df[column])\n",
    "\n",
    "# Predict sentiment labels\n",
    "predicted_labels = clf.predict(features_unlabeled)\n",
    "predicted_sentiments = label_encoder.inverse_transform(predicted_labels)\n",
    "\n",
    "# Add predicted sentiments to your unlabeled dataset\n",
    "unlabeled_df['Annotate'] = predicted_sentiments"
   ]
  },
  {
   "cell_type": "code",
   "execution_count": 36,
   "id": "66adaa6d",
   "metadata": {},
   "outputs": [],
   "source": [
    "# Save the labeled dataset\n",
    "unlabeled_df.to_csv(\"tested_tfidf.csv\", index=False)\n"
   ]
  },
  {
   "cell_type": "code",
   "execution_count": null,
   "id": "3e524535",
   "metadata": {},
   "outputs": [],
   "source": []
  },
  {
   "cell_type": "code",
   "execution_count": null,
   "id": "4687c60f",
   "metadata": {},
   "outputs": [],
   "source": []
  },
  {
   "cell_type": "code",
   "execution_count": null,
   "id": "d6f59bdb",
   "metadata": {},
   "outputs": [],
   "source": []
  },
  {
   "cell_type": "code",
   "execution_count": null,
   "id": "7968df22",
   "metadata": {},
   "outputs": [],
   "source": []
  },
  {
   "cell_type": "code",
   "execution_count": null,
   "id": "540be473",
   "metadata": {},
   "outputs": [],
   "source": []
  },
  {
   "cell_type": "code",
   "execution_count": null,
   "id": "ee81c967",
   "metadata": {},
   "outputs": [],
   "source": []
  },
  {
   "cell_type": "code",
   "execution_count": null,
   "id": "efc15197",
   "metadata": {},
   "outputs": [],
   "source": []
  },
  {
   "cell_type": "code",
   "execution_count": null,
   "id": "60bda7bd",
   "metadata": {},
   "outputs": [],
   "source": []
  },
  {
   "cell_type": "code",
   "execution_count": null,
   "id": "bcb5bd7c",
   "metadata": {},
   "outputs": [],
   "source": []
  },
  {
   "cell_type": "code",
   "execution_count": null,
   "id": "454244fd",
   "metadata": {},
   "outputs": [],
   "source": []
  },
  {
   "cell_type": "code",
   "execution_count": null,
   "id": "b0fef8e1",
   "metadata": {},
   "outputs": [],
   "source": []
  },
  {
   "cell_type": "code",
   "execution_count": null,
   "id": "55f79f26",
   "metadata": {},
   "outputs": [],
   "source": []
  },
  {
   "cell_type": "code",
   "execution_count": null,
   "id": "f676ba73",
   "metadata": {},
   "outputs": [],
   "source": []
  },
  {
   "cell_type": "code",
   "execution_count": 37,
   "id": "544d9710",
   "metadata": {},
   "outputs": [],
   "source": [
    "import matplotlib.pyplot as plt\n",
    "import numpy as np\n",
    "from sklearn.metrics import confusion_matrix, ConfusionMatrixDisplay\n"
   ]
  },
  {
   "cell_type": "code",
   "execution_count": 42,
   "id": "3f2e2aa5",
   "metadata": {},
   "outputs": [
    {
     "name": "stdout",
     "output_type": "stream",
     "text": [
      "['aaps' 'aiadmks' 'aimim' 'ammk' 'antibjp' 'bjp' 'bjps' 'cpim' 'inc'\n",
      " 'incs' 'ir' 'media' 'mnss' 'nan' 'ncp' 'nu' 'ss' 'sss' 'tmc' 'ysrcps']\n"
     ]
    },
    {
     "data": {
      "image/png": "[encoded data removed]",
      "text/plain": [
       "<Figure size 800x800 with 2 Axes>"
      ]
     },
     "metadata": {},
     "output_type": "display_data"
    }
   ],
   "source": [
    "conf_matrix = confusion_matrix(y_true, y_pred_str)\n",
    "classes = label_encoder.classes_\n",
    "print(classes)\n",
    "exclude_label = 'nan'\n",
    "classes = [label for label in classes if label != exclude_label]\n",
    "\n",
    "# Display Confusion Matrix\n",
    "cm_display = ConfusionMatrixDisplay(confusion_matrix=conf_matrix, display_labels=classes)\n",
    "fig, ax = plt.subplots(figsize=(8, 8))\n",
    "cm_display.plot(cmap='Blues', values_format='d', ax=ax)\n",
    "\n",
    "# Rotate x-axis labels by 180 degrees\n",
    "ax.set_xticklabels(classes, rotation=90)\n",
    "\n",
    "plt.title('Confusion Matrix')\n",
    "plt.show()"
   ]
  },
  {
   "cell_type": "code",
   "execution_count": null,
   "id": "2088c3d4",
   "metadata": {},
   "outputs": [],
   "source": []
  }
 ],
 "metadata": {
  "kernelspec": {
   "display_name": "Python 3 (ipykernel)",
   "language": "python",
   "name": "python3"
  },
  "language_info": {
   "codemirror_mode": {
    "name": "ipython",
    "version": 3
   },
   "file_extension": ".py",
   "mimetype": "text/x-python",
   "name": "python",
   "nbconvert_exporter": "python",
   "pygments_lexer": "ipython3",
   "version": "3.11.4"
  }
 },
 "nbformat": 4,
 "nbformat_minor": 5
}
