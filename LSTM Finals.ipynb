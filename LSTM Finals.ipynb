{
 "cells": [
  {
   "cell_type": "code",
   "execution_count": 40,
   "id": "95463836",
   "metadata": {},
   "outputs": [],
   "source": [
    "import pandas as pd\n",
    "import re\n",
    "import nltk\n",
    "import itertools\n",
    "import contractions\n",
    "import numpy as np\n",
    "from sklearn.model_selection import train_test_split\n",
    "from sklearn.metrics import classification_report\n",
    "from sklearn.preprocessing import LabelEncoder\n",
    "from tensorflow.keras.preprocessing.text import Tokenizer\n",
    "from tensorflow.keras.preprocessing.sequence import pad_sequences\n",
    "from tensorflow.keras.models import Sequential\n",
    "from tensorflow.keras.layers import Embedding, LSTM, Dense, GlobalAveragePooling1D\n",
    "import joblib"
   ]
  },
  {
   "cell_type": "code",
   "execution_count": 7,
   "id": "613e15bd",
   "metadata": {},
   "outputs": [
    {
     "name": "stderr",
     "output_type": "stream",
     "text": [
      "C:\\Users\\abhve\\AppData\\Local\\Temp\\ipykernel_5184\\1670251161.py:2: DtypeWarning: Columns (2,3,8,11,12,13,14,15,16,18,20,21,22,23,24,25,28,29,31,32,33) have mixed types. Specify dtype option on import or set low_memory=False.\n",
      "  df = pd.read_csv(\"C:\\\\Users\\\\abhve\\\\Downloads\\\\Analysisfile.csv\")\n"
     ]
    }
   ],
   "source": [
    "# Load your dataset\n",
    "df = pd.read_csv(\"C:\\\\Users\\\\abhve\\\\Downloads\\\\Analysisfile.csv\")"
   ]
  },
  {
   "cell_type": "code",
   "execution_count": 8,
   "id": "7d92b4bd",
   "metadata": {},
   "outputs": [],
   "source": [
    "column = 'OR_user_description'\n",
    "label_column = 'Annotate'"
   ]
  },
  {
   "cell_type": "code",
   "execution_count": 9,
   "id": "c3294492",
   "metadata": {},
   "outputs": [],
   "source": [
    "# Handle missing values\n",
    "df[column] = df[column].fillna('')  # Replace NaN with an empty string\n"
   ]
  },
  {
   "cell_type": "code",
   "execution_count": 10,
   "id": "670c45e7",
   "metadata": {},
   "outputs": [
    {
     "name": "stdout",
     "output_type": "stream",
     "text": [
      "['bjps' 'ir' 'media' 'nu' 'aaps' 'incs' 'inc' 'bjp' 'antibjp' 'aimim'\n",
      " 'tmc' 'aiadmks' 'ysrcps' 'ammk' 'ncp' 'nan' 'mnss']\n"
     ]
    }
   ],
   "source": [
    "df['Annotate'] = df['Annotate'].apply(lambda x: str(x))\n",
    "df['Annotate'] = df['Annotate'].str.replace(' ', '')\n",
    "df['Annotate'] = df['Annotate'].apply(lambda x: x.lower())\n",
    "unique_values = df['Annotate'].unique()\n",
    "print(unique_values)"
   ]
  },
  {
   "cell_type": "code",
   "execution_count": 11,
   "id": "97ce4d44",
   "metadata": {},
   "outputs": [],
   "source": [
    "# Convert all values to strings\n",
    "df[column] = df[column].apply(lambda x: str(x))"
   ]
  },
  {
   "cell_type": "code",
   "execution_count": 12,
   "id": "e759ac37",
   "metadata": {},
   "outputs": [],
   "source": [
    "# Text Preprocessing\n",
    "df[column] = df[column].apply(lambda x: x.lower())\n",
    "df[column] = df[column].apply(lambda x: contractions.fix(x))\n",
    "df[column] = df[column].apply(lambda x: ''.join(''.join(c)[:2] for _, c in itertools.groupby(x)))\n",
    "punctuations_regex = \"!#%&\\'()\\*+,-/:;<=>?@[\\\\]^_`{|}~.1234567890\"\n",
    "df[column] = df[column].apply(lambda x: re.sub('[%s]' % re.escape(punctuations_regex), ' ', x))\n",
    "df[column] = df[column].apply(lambda x: ' '.join(nltk.word_tokenize(x)))"
   ]
  },
  {
   "cell_type": "code",
   "execution_count": 13,
   "id": "88973016",
   "metadata": {},
   "outputs": [],
   "source": [
    "# Load GloVe word vectors\n",
    "glove_file_path = 'glove.6B.100d.txt'  # Change the path based on your downloaded file\n",
    "word_embeddings = {}\n",
    "with open(glove_file_path, encoding='utf-8') as f:\n",
    "    for line in f:\n",
    "        values = line.split()\n",
    "        word = values[0]\n",
    "        coefs = np.asarray(values[1:], dtype='float32')\n",
    "        word_embeddings[word] = coefs"
   ]
  },
  {
   "cell_type": "code",
   "execution_count": 14,
   "id": "bddd018a",
   "metadata": {},
   "outputs": [],
   "source": [
    "# Function to get the vector representation of a sentence\n",
    "def get_sentence_vector(sentence):\n",
    "    if pd.isna(sentence):  # Check for NaN values\n",
    "        return np.zeros(100)\n",
    "    \n",
    "    vectors = [word_embeddings.get(word, np.zeros(100)) for word in sentence.split()]\n",
    "    vectors = [vec for vec in vectors if vec.shape == (100,)]  # Filter out zero vectors\n",
    "    if vectors:\n",
    "        return np.mean(vectors, axis=0)\n",
    "    else:\n",
    "        return np.zeros(100)  # Return zero vector if no valid vectors are found"
   ]
  },
  {
   "cell_type": "code",
   "execution_count": 15,
   "id": "ea745de4",
   "metadata": {},
   "outputs": [],
   "source": [
    "# Apply GloVe vectors to each row\n",
    "df['glove_vector'] = df[column].apply(get_sentence_vector)"
   ]
  },
  {
   "cell_type": "code",
   "execution_count": 16,
   "id": "d955d18d",
   "metadata": {},
   "outputs": [],
   "source": [
    "# Create features from GloVe vectors\n",
    "features = np.vstack(df['glove_vector'].to_numpy())"
   ]
  },
  {
   "cell_type": "code",
   "execution_count": 30,
   "id": "2939bcfe",
   "metadata": {},
   "outputs": [],
   "source": [
    "from keras.utils import to_categorical"
   ]
  },
  {
   "cell_type": "code",
   "execution_count": 17,
   "id": "d68410e7",
   "metadata": {},
   "outputs": [],
   "source": [
    "# Encode Labels\n",
    "label_encoder = LabelEncoder()\n",
    "df[label_column] = label_encoder.fit_transform(df[label_column])"
   ]
  },
  {
   "cell_type": "code",
   "execution_count": 18,
   "id": "a1fcfc25",
   "metadata": {},
   "outputs": [],
   "source": [
    "# Split data into train and test sets\n",
    "X_train, X_test, y_train, y_test = train_test_split(features, df[label_column], test_size=0.2, random_state=42)"
   ]
  },
  {
   "cell_type": "code",
   "execution_count": 26,
   "id": "e153b98f",
   "metadata": {},
   "outputs": [],
   "source": [
    "# Tokenization and Padding for LSTM\n",
    "max_words = 500  # You may need to adjust this based on your dataset\n",
    "max_sequence_length = 100  # Set the maximum sequence length to match GloVe vectors\n",
    "tokenizer = Tokenizer(num_words=max_words, oov_token='<OOV>')\n",
    "tokenizer.fit_on_texts(df[column])\n",
    "sequences = tokenizer.texts_to_sequences(df[column])\n",
    "padded_sequences = pad_sequences(sequences, maxlen=max_sequence_length, padding='post', truncating='post')"
   ]
  },
  {
   "cell_type": "code",
   "execution_count": 27,
   "id": "3db62e29",
   "metadata": {},
   "outputs": [],
   "source": [
    "# LSTM Model\n",
    "embedding_dim = 300  # You may need to adjust this based on your dataset\n",
    "model = Sequential([\n",
    "    Embedding(input_dim=max_words, output_dim=embedding_dim, input_length=max_sequence_length, trainable=False),\n",
    "    LSTM(units=100, return_sequences=True),\n",
    "    GlobalAveragePooling1D(),\n",
    "    Dense(units=len(label_encoder.classes_), activation='softmax')\n",
    "])\n"
   ]
  },
  {
   "cell_type": "code",
   "execution_count": 31,
   "id": "d7f1dfa9",
   "metadata": {},
   "outputs": [],
   "source": [
    "# Convert labels to one-hot encoding\n",
    "y_one_hot = to_categorical(df[label_column])\n"
   ]
  },
  {
   "cell_type": "code",
   "execution_count": 32,
   "id": "98e09216",
   "metadata": {
    "scrolled": true
   },
   "outputs": [
    {
     "name": "stdout",
     "output_type": "stream",
     "text": [
      "Epoch 1/10\n",
      "3126/3126 [==============================] - 88s 28ms/step - loss: 1.2651 - accuracy: 0.6177 - val_loss: 7.3061 - val_accuracy: 0.0000e+00\n",
      "Epoch 2/10\n",
      "3126/3126 [==============================] - 88s 28ms/step - loss: 1.0105 - accuracy: 0.6892 - val_loss: 12.2884 - val_accuracy: 0.0000e+00\n",
      "Epoch 3/10\n",
      "3126/3126 [==============================] - 87s 28ms/step - loss: 0.7132 - accuracy: 0.7900 - val_loss: 8.6727 - val_accuracy: 0.0000e+00\n",
      "Epoch 4/10\n",
      "3126/3126 [==============================] - 95s 30ms/step - loss: 0.4262 - accuracy: 0.8831 - val_loss: 7.2870 - val_accuracy: 0.0000e+00\n",
      "Epoch 5/10\n",
      "3126/3126 [==============================] - 94s 30ms/step - loss: 0.2912 - accuracy: 0.9239 - val_loss: 8.1591 - val_accuracy: 0.0000e+00\n",
      "Epoch 6/10\n",
      "3126/3126 [==============================] - 92s 29ms/step - loss: 0.1690 - accuracy: 0.9576 - val_loss: 7.2289 - val_accuracy: 0.0000e+00\n",
      "Epoch 7/10\n",
      "3126/3126 [==============================] - 89s 28ms/step - loss: 0.0967 - accuracy: 0.9753 - val_loss: 6.8013 - val_accuracy: 0.0000e+00\n",
      "Epoch 8/10\n",
      "3126/3126 [==============================] - 87s 28ms/step - loss: 0.0762 - accuracy: 0.9809 - val_loss: 7.5599 - val_accuracy: 0.0000e+00\n",
      "Epoch 9/10\n",
      "3126/3126 [==============================] - 88s 28ms/step - loss: 0.0510 - accuracy: 0.9877 - val_loss: 6.9966 - val_accuracy: 0.0000e+00\n",
      "Epoch 10/10\n",
      "3126/3126 [==============================] - 89s 29ms/step - loss: 0.0485 - accuracy: 0.9881 - val_loss: 5.9121 - val_accuracy: 0.0000e+00\n"
     ]
    },
    {
     "data": {
      "text/plain": [
       "<keras.src.callbacks.History at 0x20882057810>"
      ]
     },
     "execution_count": 32,
     "metadata": {},
     "output_type": "execute_result"
    }
   ],
   "source": [
    "model.compile(optimizer='adam', loss='categorical_crossentropy', metrics=['accuracy'])\n",
    "model.fit(padded_sequences, y_one_hot, epochs=10, batch_size=32, validation_split=0.2)"
   ]
  },
  {
   "cell_type": "code",
   "execution_count": 46,
   "id": "26513a68",
   "metadata": {},
   "outputs": [],
   "source": [
    "model.save('lstm.keras')\n"
   ]
  },
  {
   "cell_type": "code",
   "execution_count": 33,
   "id": "465cc568",
   "metadata": {},
   "outputs": [],
   "source": [
    "# Tokenization and Padding for LSTM\n",
    "sequences_test = tokenizer.texts_to_sequences(df[column])\n",
    "padded_sequences_test = pad_sequences(sequences_test, maxlen=max_sequence_length, padding='post', truncating='post')\n"
   ]
  },
  {
   "cell_type": "code",
   "execution_count": 34,
   "id": "fff3d2c7",
   "metadata": {},
   "outputs": [
    {
     "name": "stdout",
     "output_type": "stream",
     "text": [
      "3907/3907 [==============================] - 44s 11ms/step\n"
     ]
    }
   ],
   "source": [
    "# Model Evaluation\n",
    "y_pred_probs = model.predict(padded_sequences_test)\n",
    "y_pred = np.argmax(y_pred_probs, axis=1)\n",
    "y_true = df[label_column]\n"
   ]
  },
  {
   "cell_type": "code",
   "execution_count": 42,
   "id": "c9fc6f0e",
   "metadata": {},
   "outputs": [
    {
     "name": "stdout",
     "output_type": "stream",
     "text": [
      "Accuracy: 79.04%\n"
     ]
    }
   ],
   "source": [
    "print(\"Accuracy: {:.2f}%\".format(accuracy_score(df.Annotate, y_pred)*100))"
   ]
  },
  {
   "cell_type": "code",
   "execution_count": 35,
   "id": "38f81032",
   "metadata": {},
   "outputs": [
    {
     "name": "stdout",
     "output_type": "stream",
     "text": [
      "              precision    recall  f1-score   support\n",
      "\n",
      "           0     0.9992    0.9864    0.9927      1246\n",
      "           1     0.9872    0.9167    0.9506        84\n",
      "           2     0.7460    1.0000    0.8545        94\n",
      "           3     1.0000    0.9369    0.9674       333\n",
      "           4     0.9984    0.9944    0.9964      4428\n",
      "           5     0.9524    0.9896    0.9707      5299\n",
      "           6     0.9908    0.9770    0.9838     10115\n",
      "           7     0.9782    0.9984    0.9882      1889\n",
      "           8     0.9984    0.9081    0.9511      3429\n",
      "           9     0.6842    0.9952    0.8109     55555\n",
      "          10     0.9928    0.9883    0.9905     10258\n",
      "          11     1.0000    0.6190    0.7647        21\n",
      "          12     0.0000    0.0000    0.0000     25040\n",
      "          13     1.0000    1.0000    1.0000       138\n",
      "          14     0.9764    0.9886    0.9825      6771\n",
      "          15     1.0000    0.9912    0.9956       227\n",
      "          16     1.0000    0.8791    0.9357        91\n",
      "\n",
      "    accuracy                         0.7904    125018\n",
      "   macro avg     0.9002    0.8923    0.8903    125018\n",
      "weighted avg     0.6541    0.7904    0.7094    125018\n",
      "\n"
     ]
    },
    {
     "name": "stderr",
     "output_type": "stream",
     "text": [
      "C:\\Users\\abhve\\AppData\\Roaming\\Python\\Python311\\site-packages\\sklearn\\metrics\\_classification.py:1471: UndefinedMetricWarning: Precision and F-score are ill-defined and being set to 0.0 in labels with no predicted samples. Use `zero_division` parameter to control this behavior.\n",
      "  _warn_prf(average, modifier, msg_start, len(result))\n",
      "C:\\Users\\abhve\\AppData\\Roaming\\Python\\Python311\\site-packages\\sklearn\\metrics\\_classification.py:1471: UndefinedMetricWarning: Precision and F-score are ill-defined and being set to 0.0 in labels with no predicted samples. Use `zero_division` parameter to control this behavior.\n",
      "  _warn_prf(average, modifier, msg_start, len(result))\n",
      "C:\\Users\\abhve\\AppData\\Roaming\\Python\\Python311\\site-packages\\sklearn\\metrics\\_classification.py:1471: UndefinedMetricWarning: Precision and F-score are ill-defined and being set to 0.0 in labels with no predicted samples. Use `zero_division` parameter to control this behavior.\n",
      "  _warn_prf(average, modifier, msg_start, len(result))\n"
     ]
    }
   ],
   "source": [
    "print(classification_report(y_true, y_pred, digits=4))"
   ]
  },
  {
   "cell_type": "code",
   "execution_count": null,
   "id": "f32cdc74",
   "metadata": {},
   "outputs": [],
   "source": [
    "#ignore below"
   ]
  },
  {
   "cell_type": "code",
   "execution_count": 20,
   "id": "5f52ae0e",
   "metadata": {},
   "outputs": [],
   "source": [
    "## Testing"
   ]
  },
  {
   "cell_type": "code",
   "execution_count": 47,
   "id": "9c14c3bb",
   "metadata": {},
   "outputs": [],
   "source": [
    "from tensorflow.keras.models import load_model\n"
   ]
  },
  {
   "cell_type": "code",
   "execution_count": 48,
   "id": "49839641",
   "metadata": {},
   "outputs": [],
   "source": [
    "\n",
    "new_df = pd.read_csv(\"C:\\\\Users\\\\abhve\\\\Downloads\\\\tested.csv\")"
   ]
  },
  {
   "cell_type": "code",
   "execution_count": 49,
   "id": "afb052de",
   "metadata": {},
   "outputs": [],
   "source": [
    "new_column = 'OR_user_description'"
   ]
  },
  {
   "cell_type": "code",
   "execution_count": 50,
   "id": "a9c24ad0",
   "metadata": {},
   "outputs": [],
   "source": [
    "new_df[new_column] = new_df[new_column].fillna('')  # Replace NaN with an empty string"
   ]
  },
  {
   "cell_type": "code",
   "execution_count": 51,
   "id": "8e3ce936",
   "metadata": {},
   "outputs": [],
   "source": [
    "# Convert all values to strings\n",
    "new_df[new_column] = new_df[new_column].apply(lambda x: str(x))"
   ]
  },
  {
   "cell_type": "code",
   "execution_count": 52,
   "id": "a5c533a1",
   "metadata": {},
   "outputs": [],
   "source": [
    "# Text Preprocessing\n",
    "new_df[new_column] = new_df[new_column].apply(lambda x: x.lower())\n",
    "new_df[new_column] = new_df[new_column].apply(lambda x: contractions.fix(x))\n",
    "punctuations_regex = \"!#%&\\'()\\*+,-/:;<=>?@[\\\\]^_`{|}~.1234567890\"\n",
    "new_df[new_column] = new_df[new_column].apply(lambda x: re.sub('[%s]' % re.escape(punctuations_regex), ' ', x))\n",
    "new_df[new_column] = new_df[new_column].apply(lambda x: ' '.join(nltk.word_tokenize(x)))\n"
   ]
  },
  {
   "cell_type": "code",
   "execution_count": 53,
   "id": "7904349b",
   "metadata": {},
   "outputs": [],
   "source": [
    "# Apply GloVe vectors to each row\n",
    "new_df['glove_vector'] = new_df[new_column].apply(get_sentence_vector)"
   ]
  },
  {
   "cell_type": "code",
   "execution_count": 54,
   "id": "118ba4b4",
   "metadata": {},
   "outputs": [],
   "source": [
    "# Create features from GloVe vectors\n",
    "new_features = np.vstack(new_df['glove_vector'].to_numpy())"
   ]
  },
  {
   "cell_type": "code",
   "execution_count": 55,
   "id": "0673c3b3",
   "metadata": {},
   "outputs": [],
   "source": [
    "# Tokenization and Padding for LSTM\n",
    "sequences_new = tokenizer.texts_to_sequences(new_df[new_column])\n",
    "padded_sequences_new = pad_sequences(sequences_new, maxlen=max_sequence_length, padding='post', truncating='post')\n"
   ]
  },
  {
   "cell_type": "code",
   "execution_count": 56,
   "id": "53900695",
   "metadata": {},
   "outputs": [],
   "source": [
    "# Load the pre-trained LSTM model\n",
    "model = load_model('lstm.keras')"
   ]
  },
  {
   "cell_type": "code",
   "execution_count": null,
   "id": "ae5742f8",
   "metadata": {},
   "outputs": [
    {
     "name": "stdout",
     "output_type": "stream",
     "text": [
      "2876/6026 [=============>................] - ETA: 37s"
     ]
    }
   ],
   "source": [
    "# Model Prediction\n",
    "new_pred_probs = model.predict(padded_sequences_new)\n",
    "new_pred = np.argmax(new_pred_probs, axis=1)"
   ]
  },
  {
   "cell_type": "code",
   "execution_count": null,
   "id": "f996b503",
   "metadata": {},
   "outputs": [],
   "source": [
    "# Decode the predicted labels using the label encoder\n",
    "new_pred_labels = label_encoder.inverse_transform(new_pred)"
   ]
  },
  {
   "cell_type": "code",
   "execution_count": null,
   "id": "6ce9d1d8",
   "metadata": {},
   "outputs": [],
   "source": [
    "# Add the predicted labels to the new dataset\n",
    "new_df['predicted_labels'] = new_pred_labels"
   ]
  },
  {
   "cell_type": "code",
   "execution_count": 60,
   "id": "982107f2",
   "metadata": {},
   "outputs": [],
   "source": [
    "# Save the new dataset with predicted labels\n",
    "new_df.to_csv(\"tested_lstm.csv\", index=False)"
   ]
  },
  {
   "cell_type": "code",
   "execution_count": null,
   "id": "71491e98",
   "metadata": {},
   "outputs": [],
   "source": []
  },
  {
   "cell_type": "code",
   "execution_count": null,
   "id": "226163c7",
   "metadata": {},
   "outputs": [],
   "source": [
    "##restart here"
   ]
  },
  {
   "cell_type": "code",
   "execution_count": null,
   "id": "149b3556",
   "metadata": {},
   "outputs": [],
   "source": []
  },
  {
   "cell_type": "code",
   "execution_count": null,
   "id": "edacda9c",
   "metadata": {},
   "outputs": [],
   "source": []
  },
  {
   "cell_type": "code",
   "execution_count": 43,
   "id": "7a554fd6",
   "metadata": {},
   "outputs": [],
   "source": [
    "import matplotlib.pyplot as plt\n",
    "import numpy as np\n",
    "from sklearn.metrics import confusion_matrix, ConfusionMatrixDisplay\n"
   ]
  },
  {
   "cell_type": "code",
   "execution_count": 45,
   "id": "cda8412b",
   "metadata": {},
   "outputs": [
    {
     "name": "stdout",
     "output_type": "stream",
     "text": [
      "['aaps' 'aiadmks' 'aimim' 'ammk' 'antibjp' 'bjp' 'bjps' 'inc' 'incs' 'ir'\n",
      " 'media' 'mnss' 'nan' 'ncp' 'nu' 'tmc' 'ysrcps']\n"
     ]
    },
    {
     "data": {
      "image/png": "[encoded data removed]",
      "text/plain": [
       "<Figure size 1000x1000 with 2 Axes>"
      ]
     },
     "metadata": {},
     "output_type": "display_data"
    }
   ],
   "source": [
    "conf_matrix = confusion_matrix(y_true, y_pred)\n",
    "classes = label_encoder.classes_\n",
    "print(classes)\n",
    "\n",
    "\n",
    "# Display Confusion Matrix\n",
    "cm_display = ConfusionMatrixDisplay(confusion_matrix=conf_matrix, display_labels=classes)\n",
    "fig, ax = plt.subplots(figsize=(10, 10))\n",
    "cm_display.plot(cmap='Reds', values_format='d', ax=ax)\n",
    "\n",
    "# Rotate x-axis labels by 180 degrees\n",
    "ax.set_xticklabels(classes, rotation=90)\n",
    "\n",
    "plt.title('Confusion Matrix')\n",
    "plt.show()"
   ]
  },
  {
   "cell_type": "code",
   "execution_count": null,
   "id": "a58af178",
   "metadata": {},
   "outputs": [],
   "source": []
  }
 ],
 "metadata": {
  "kernelspec": {
   "display_name": "Python 3 (ipykernel)",
   "language": "python",
   "name": "python3"
  },
  "language_info": {
   "codemirror_mode": {
    "name": "ipython",
    "version": 3
   },
   "file_extension": ".py",
   "mimetype": "text/x-python",
   "name": "python",
   "nbconvert_exporter": "python",
   "pygments_lexer": "ipython3",
   "version": "3.11.4"
  }
 },
 "nbformat": 4,
 "nbformat_minor": 5
}
